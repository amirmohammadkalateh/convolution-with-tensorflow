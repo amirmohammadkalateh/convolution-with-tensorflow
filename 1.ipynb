{
  "nbformat": 4,
  "nbformat_minor": 0,
  "metadata": {
    "colab": {
      "provenance": [],
      "authorship_tag": "ABX9TyO28mrk4dQhRdRBM43VXLoo",
      "include_colab_link": true
    },
    "kernelspec": {
      "name": "python3",
      "display_name": "Python 3"
    },
    "language_info": {
      "name": "python"
    }
  },
  "cells": [
    {
      "cell_type": "markdown",
      "metadata": {
        "id": "view-in-github",
        "colab_type": "text"
      },
      "source": [
        "<a href=\"https://colab.research.google.com/github/amirmohammadkalateh/convolution-with-tensorflow/blob/main/1.ipynb\" target=\"_parent\"><img src=\"https://colab.research.google.com/assets/colab-badge.svg\" alt=\"Open In Colab\"/></a>"
      ]
    },
    {
      "cell_type": "code",
      "execution_count": 3,
      "metadata": {
        "id": "FYU0WS_ahvKg"
      },
      "outputs": [],
      "source": [
        "import tensorflow as tf\n",
        "from tensorflow import keras\n",
        "from sklearn.model_selection import train_test_split\n",
        "import matplotlib.pyplot as plt\n",
        "import numpy as np"
      ]
    },
    {
      "cell_type": "code",
      "source": [
        "(x_train, y_train), (x_test, y_test) = keras.datasets.cifar10.load_data()"
      ],
      "metadata": {
        "colab": {
          "base_uri": "https://localhost:8080/"
        },
        "id": "9YPJXDuziG93",
        "outputId": "7b3c04c3-f270-4036-c230-5b52412c07fd"
      },
      "execution_count": 4,
      "outputs": [
        {
          "output_type": "stream",
          "name": "stdout",
          "text": [
            "Downloading data from https://www.cs.toronto.edu/~kriz/cifar-10-python.tar.gz\n",
            "\u001b[1m170498071/170498071\u001b[0m \u001b[32m━━━━━━━━━━━━━━━━━━━━\u001b[0m\u001b[37m\u001b[0m \u001b[1m3s\u001b[0m 0us/step\n"
          ]
        }
      ]
    },
    {
      "cell_type": "code",
      "source": [
        "x_train.shape"
      ],
      "metadata": {
        "colab": {
          "base_uri": "https://localhost:8080/"
        },
        "id": "pqWLo5q1jV42",
        "outputId": "2114f76e-0ec9-4679-9906-320359845719"
      },
      "execution_count": 6,
      "outputs": [
        {
          "output_type": "execute_result",
          "data": {
            "text/plain": [
              "(50000, 32, 32, 3)"
            ]
          },
          "metadata": {},
          "execution_count": 6
        }
      ]
    },
    {
      "cell_type": "code",
      "source": [
        "plt.imshow(x_train[2, :, :, : ])"
      ],
      "metadata": {
        "colab": {
          "base_uri": "https://localhost:8080/",
          "height": 447
        },
        "id": "Ly3eIMzDjZC4",
        "outputId": "c5b68b23-6ad9-4802-b392-4f4b5615bf6f"
      },
      "execution_count": 8,
      "outputs": [
        {
          "output_type": "execute_result",
          "data": {
            "text/plain": [
              "<matplotlib.image.AxesImage at 0x7ee8ecbcec10>"
            ]
          },
          "metadata": {},
          "execution_count": 8
        },
        {
          "output_type": "display_data",
          "data": {
            "text/plain": [
              "<Figure size 640x480 with 1 Axes>"
            ],
            "image/png": "[encoded data removed]"
          },
          "metadata": {}
        }
      ]
    },
    {
      "cell_type": "code",
      "source": [
        "images = x_train[1:3 , : , : , :]/255.0\n",
        "images.shape"
      ],
      "metadata": {
        "colab": {
          "base_uri": "https://localhost:8080/"
        },
        "id": "pEycjGTAjr1t",
        "outputId": "d0e8dd53-33ce-4d61-88ac-d81aa0c96253"
      },
      "execution_count": 19,
      "outputs": [
        {
          "output_type": "execute_result",
          "data": {
            "text/plain": [
              "(2, 32, 32, 3)"
            ]
          },
          "metadata": {},
          "execution_count": 19
        }
      ]
    },
    {
      "cell_type": "code",
      "source": [
        "images.dtype"
      ],
      "metadata": {
        "colab": {
          "base_uri": "https://localhost:8080/"
        },
        "id": "KOeuEu0ul85n",
        "outputId": "9f3edafc-89a7-4c7c-aab3-89547e99ecd5"
      },
      "execution_count": 20,
      "outputs": [
        {
          "output_type": "execute_result",
          "data": {
            "text/plain": [
              "dtype('float64')"
            ]
          },
          "metadata": {},
          "execution_count": 20
        }
      ]
    },
    {
      "cell_type": "code",
      "source": [
        "filters = np.zeros((5 , 5 , 3 , 2))\n",
        "filters[:, 2, :, 0] = 1\n",
        "filters[2, :, :, 1] = 1"
      ],
      "metadata": {
        "id": "0_bY2Emxj_Ph"
      },
      "execution_count": 14,
      "outputs": []
    },
    {
      "cell_type": "code",
      "source": [
        "plt.imshow(filters[:, :, :, 1])"
      ],
      "metadata": {
        "colab": {
          "base_uri": "https://localhost:8080/",
          "height": 447
        },
        "id": "K4k3-fknkvjR",
        "outputId": "570b9d41-b182-422e-9d33-3dad72a14a57"
      },
      "execution_count": 15,
      "outputs": [
        {
          "output_type": "execute_result",
          "data": {
            "text/plain": [
              "<matplotlib.image.AxesImage at 0x7ee8ec7b5d90>"
            ]
          },
          "metadata": {},
          "execution_count": 15
        },
        {
          "output_type": "display_data",
          "data": {
            "text/plain": [
              "<Figure size 640x480 with 1 Axes>"
            ],
            "image/png": "[encoded data removed]"
          },
          "metadata": {}
        }
      ]
    },
    {
      "cell_type": "code",
      "source": [
        "convolved_images = tf.nn.conv2d(images , filters, strides = 1, padding=\"SAME\")"
      ],
      "metadata": {
        "id": "lG4H8jCbk3G4"
      },
      "execution_count": 21,
      "outputs": []
    },
    {
      "cell_type": "code",
      "source": [
        "convolved_images.shape"
      ],
      "metadata": {
        "colab": {
          "base_uri": "https://localhost:8080/"
        },
        "id": "DbCjElncmNbU",
        "outputId": "4438bdb3-9dbe-44d0-8144-5f890fa461a0"
      },
      "execution_count": 22,
      "outputs": [
        {
          "output_type": "execute_result",
          "data": {
            "text/plain": [
              "TensorShape([2, 32, 32, 2])"
            ]
          },
          "metadata": {},
          "execution_count": 22
        }
      ]
    },
    {
      "cell_type": "code",
      "source": [
        "convolved_images[0, :, :, 0]"
      ],
      "metadata": {
        "colab": {
          "base_uri": "https://localhost:8080/"
        },
        "id": "JKM0uucJmWFp",
        "outputId": "87e5bbdf-c7d8-4237-8567-74b104ed8bd0"
      },
      "execution_count": 23,
      "outputs": [
        {
          "output_type": "execute_result",
          "data": {
            "text/plain": [
              "<tf.Tensor: shape=(32, 32), dtype=float64, numpy=\n",
              "array([[5.67058824, 5.03921569, 3.97647059, ..., 2.96078431, 2.58823529,\n",
              "        2.45490196],\n",
              "       [7.38823529, 6.70588235, 5.40392157, ..., 3.81568627, 3.30588235,\n",
              "        3.25098039],\n",
              "       [8.99607843, 8.42745098, 7.03921569, ..., 4.61568627, 4.07058824,\n",
              "        4.23137255],\n",
              "       ...,\n",
              "       [9.30588235, 8.61176471, 7.49019608, ..., 5.45490196, 5.71764706,\n",
              "        6.76862745],\n",
              "       [7.31372549, 6.93333333, 6.91764706, ..., 4.14509804, 4.5254902 ,\n",
              "        5.27843137],\n",
              "       [5.43529412, 5.23921569, 5.48235294, ..., 3.21176471, 3.71372549,\n",
              "        4.19607843]])>"
            ]
          },
          "metadata": {},
          "execution_count": 23
        }
      ]
    }
  ]
}