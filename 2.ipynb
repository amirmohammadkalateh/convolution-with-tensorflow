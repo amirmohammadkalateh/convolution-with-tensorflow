{
  "nbformat": 4,
  "nbformat_minor": 0,
  "metadata": {
    "colab": {
      "provenance": [],
      "authorship_tag": "ABX9TyMnLUzLq1xHXrv9YwJrCqra",
      "include_colab_link": true
    },
    "kernelspec": {
      "name": "python3",
      "display_name": "Python 3"
    },
    "language_info": {
      "name": "python"
    }
  },
  "cells": [
    {
      "cell_type": "markdown",
      "metadata": {
        "id": "view-in-github",
        "colab_type": "text"
      },
      "source": [
        "<a href=\"https://colab.research.google.com/github/amirmohammadkalateh/convolution-with-tensorflow/blob/main/2.ipynb\" target=\"_parent\"><img src=\"https://colab.research.google.com/assets/colab-badge.svg\" alt=\"Open In Colab\"/></a>"
      ]
    },
    {
      "cell_type": "code",
      "execution_count": 1,
      "metadata": {
        "colab": {
          "base_uri": "https://localhost:8080/"
        },
        "id": "GiMqgCi-n78l",
        "outputId": "d2f8e556-538c-4324-9ba2-5ae918486d09"
      },
      "outputs": [
        {
          "output_type": "stream",
          "name": "stdout",
          "text": [
            "Input tensor shape: (32, 28, 28, 1)\n",
            "Output tensor shape: (32, 28, 28, 32)\n"
          ]
        }
      ],
      "source": [
        "import tensorflow as tf\n",
        "\n",
        "\n",
        "input_shape = (32, 28, 28, 1)\n",
        "input_tensor = tf.random.normal(input_shape)\n",
        "\n",
        "\n",
        "filters = 32  # Number of output filters (convolutional kernels)\n",
        "kernel_size = (3, 3)  # Height and width of the convolutional kernel\n",
        "strides = (1, 1)  # Stride of the convolution along height and width\n",
        "padding = 'same'  # Padding strategy ('valid' or 'same')\n",
        "activation = 'relu'  # Activation function to apply after convolution\n",
        "\n",
        "conv_layer = tf.keras.layers.Conv2D(\n",
        "    filters=filters,\n",
        "    kernel_size=kernel_size,\n",
        "    strides=strides,\n",
        "    padding=padding,\n",
        "    activation=activation\n",
        ")\n",
        "\n",
        "# Apply the convolutional layer to the input tensor\n",
        "output_tensor = conv_layer(input_tensor)\n",
        "\n",
        "print(\"Input tensor shape:\", input_tensor.shape)\n",
        "print(\"Output tensor shape:\", output_tensor.shape)"
      ]
    }
  ]
}